{
 "cells": [
  {
   "cell_type": "markdown",
   "metadata": {},
   "source": [
    "<center>\n",
    "# Photoelectric Experiment Lab Notebook\n",
    "\n",
    "## Adithya Shastry\n",
    "## April 4th, 2020\n",
    "<center>"
   ]
  },
  {
   "cell_type": "markdown",
   "metadata": {},
   "source": [
    "This is the analysis of the very famous experiment by Robert Millikan where he set out to understand the true nature of light. Three different experiments were conducted to analyze the different characteristics of photons. These experiments utilized a high pressure mercury lamp as the light source for the experiments and emitted a 253.7 nm ultraviolet wavelength. The experiments will be analyzed below. "
   ]
  },
  {
   "cell_type": "markdown",
   "metadata": {},
   "source": [
    "## Photocurrent versus anode voltage"
   ]
  },
  {
   "cell_type": "markdown",
   "metadata": {},
   "source": [
    "Here we will be looking at the data from the first experiment to understand the some interesting things about the particle like behavior of light. "
   ]
  },
  {
   "cell_type": "code",
   "execution_count": 222,
   "metadata": {
    "collapsed": true
   },
   "outputs": [],
   "source": [
    "import numpy as np\n",
    "import pandas as pd\n",
    "import matplotlib.pyplot as plt\n",
    "import seaborn as sns\n",
    "%matplotlib inline"
   ]
  },
  {
   "cell_type": "code",
   "execution_count": 223,
   "metadata": {},
   "outputs": [
    {
     "data": {
      "text/html": [
       "<div>\n",
       "<style>\n",
       "    .dataframe thead tr:only-child th {\n",
       "        text-align: right;\n",
       "    }\n",
       "\n",
       "    .dataframe thead th {\n",
       "        text-align: left;\n",
       "    }\n",
       "\n",
       "    .dataframe tbody tr th {\n",
       "        vertical-align: top;\n",
       "    }\n",
       "</style>\n",
       "<table border=\"1\" class=\"dataframe\">\n",
       "  <thead>\n",
       "    <tr style=\"text-align: right;\">\n",
       "      <th></th>\n",
       "      <th>Anode Voltage(V)</th>\n",
       "      <th>Cathode Current(10^-7 A)</th>\n",
       "    </tr>\n",
       "  </thead>\n",
       "  <tbody>\n",
       "    <tr>\n",
       "      <th>0</th>\n",
       "      <td>0.00</td>\n",
       "      <td>0.10650</td>\n",
       "    </tr>\n",
       "    <tr>\n",
       "      <th>1</th>\n",
       "      <td>-0.10</td>\n",
       "      <td>0.09200</td>\n",
       "    </tr>\n",
       "    <tr>\n",
       "      <th>2</th>\n",
       "      <td>-0.20</td>\n",
       "      <td>0.07880</td>\n",
       "    </tr>\n",
       "    <tr>\n",
       "      <th>3</th>\n",
       "      <td>-0.35</td>\n",
       "      <td>0.05920</td>\n",
       "    </tr>\n",
       "    <tr>\n",
       "      <th>4</th>\n",
       "      <td>-0.40</td>\n",
       "      <td>0.04170</td>\n",
       "    </tr>\n",
       "    <tr>\n",
       "      <th>5</th>\n",
       "      <td>-0.65</td>\n",
       "      <td>0.02650</td>\n",
       "    </tr>\n",
       "    <tr>\n",
       "      <th>6</th>\n",
       "      <td>-0.80</td>\n",
       "      <td>0.01390</td>\n",
       "    </tr>\n",
       "    <tr>\n",
       "      <th>7</th>\n",
       "      <td>-0.95</td>\n",
       "      <td>0.00545</td>\n",
       "    </tr>\n",
       "    <tr>\n",
       "      <th>8</th>\n",
       "      <td>-1.10</td>\n",
       "      <td>0.00137</td>\n",
       "    </tr>\n",
       "    <tr>\n",
       "      <th>9</th>\n",
       "      <td>-1.20</td>\n",
       "      <td>0.00023</td>\n",
       "    </tr>\n",
       "  </tbody>\n",
       "</table>\n",
       "</div>"
      ],
      "text/plain": [
       "   Anode Voltage(V)  Cathode Current(10^-7 A)\n",
       "0              0.00                   0.10650\n",
       "1             -0.10                   0.09200\n",
       "2             -0.20                   0.07880\n",
       "3             -0.35                   0.05920\n",
       "4             -0.40                   0.04170\n",
       "5             -0.65                   0.02650\n",
       "6             -0.80                   0.01390\n",
       "7             -0.95                   0.00545\n",
       "8             -1.10                   0.00137\n",
       "9             -1.20                   0.00023"
      ]
     },
     "execution_count": 223,
     "metadata": {},
     "output_type": "execute_result"
    }
   ],
   "source": [
    "#import the Csv file from the file folder. I have separated the two sets of data into different sheets to make \n",
    "#it easier to import\n",
    "anodeV174=pd.read_excel(\"PhotoCurrent-AnodeVoltage Data 2020-03-19.xlsx\",skiprows=[0],sheetname=\"Sheet1\")\n",
    "anodeV174.columns=['Anode Voltage(V)','Cathode Current(10^-7 A)']\n",
    "\n",
    "\n",
    "#Now import the new file\n",
    "anodeV214=pd.read_excel(\"PhotoCurrent-AnodeVoltage Data 2020-03-19.xlsx\",skiprows=[0],sheetname='Sheet2')\n",
    "anodeV214.columns=columns=['Anode Voltage(V)','Cathode Current(10^-7 A)']\n",
    "anodeV174.head(10)"
   ]
  },
  {
   "cell_type": "code",
   "execution_count": 224,
   "metadata": {},
   "outputs": [
    {
     "data": {
      "text/plain": [
       "<matplotlib.collections.PathCollection at 0x2017a2847b8>"
      ]
     },
     "execution_count": 224,
     "metadata": {},
     "output_type": "execute_result"
    },
    {
     "data": {
      "image/png": "[encoded data removed]",
      "text/plain": [
       "<matplotlib.figure.Figure at 0x2017977a668>"
      ]
     },
     "metadata": {},
     "output_type": "display_data"
    }
   ],
   "source": [
    "#Now I will make a quick plot of this data\n",
    "fig=plt.figure(figsize=(12,6))\n",
    "\n",
    "ax1=fig.add_axes([0,0,1,1])\n",
    "ax1.set_xlabel(\"Anode Voltage(V)\")\n",
    "\n",
    "ax1.scatter(anodeV174['Anode Voltage(V)'],\n",
    "            anodeV174['Cathode Current(10^-7 A)'],label='174 mm',linestyle='-')\n",
    "\n",
    "ax1.scatter(anodeV214['Anode Voltage(V)'],\n",
    "            anodeV214['Cathode Current(10^-7 A)'],label='214 mm',linestyle='-')\n",
    "\n",
    "ax1.legend(loc=4)\n",
    "\n",
    "\n",
    "ax2=fig.add_axes([0.04,0.7,0.4,0.4])\n",
    "ax2.set_ylim([-0.2,0.3])\n",
    "ax2.set_xlim([-2.2,0.5])\n",
    "ax2.scatter(anodeV174['Anode Voltage(V)'],anodeV174['Cathode Current(10^-7 A)'],label='174 mm',linestyle='-')\n",
    "ax2.scatter(anodeV214['Anode Voltage(V)'],anodeV214['Cathode Current(10^-7 A)'],label='214 mm',linestyle='-')\n"
   ]
  },
  {
   "cell_type": "markdown",
   "metadata": {},
   "source": [
    "It is clearly seen from the graph above that that the stopping potential is the same for all intensities of light. This shows that the photons of light are acting like a particle instead of like a wave. If the light was indeed acting like a wave then the curve for the 174 mm light should have a more negative stopping potential, however it does not showing that this model for how light works is indeed incorrect in this context, leading to the prevailing theory of particle wave duality. This also shows that only one photon of light will interact with an electron and put it into an excited state, otherwise we would see a   more negative stopping potential for the 174 mm light. From this we can also determine that the light delivers energy in fixed quantities to the electrons. "
   ]
  },
  {
   "cell_type": "markdown",
   "metadata": {},
   "source": [
    "## Photocurrent versus Light Intensity"
   ]
  },
  {
   "cell_type": "markdown",
   "metadata": {},
   "source": [
    "In this experiment we will delve deeper into the ideas proposed above by looking at how the intensity of light affects the photocurrent. This data was taken with a anode voltage of 25 V. The distance was adjusted in accordance with a 25% to 30% photocurrent reduction every increment."
   ]
  },
  {
   "cell_type": "code",
   "execution_count": 225,
   "metadata": {},
   "outputs": [
    {
     "data": {
      "text/html": [
       "<div>\n",
       "<style>\n",
       "    .dataframe thead tr:only-child th {\n",
       "        text-align: right;\n",
       "    }\n",
       "\n",
       "    .dataframe thead th {\n",
       "        text-align: left;\n",
       "    }\n",
       "\n",
       "    .dataframe tbody tr th {\n",
       "        vertical-align: top;\n",
       "    }\n",
       "</style>\n",
       "<table border=\"1\" class=\"dataframe\">\n",
       "  <thead>\n",
       "    <tr style=\"text-align: right;\">\n",
       "      <th></th>\n",
       "      <th>Xm(mm)</th>\n",
       "      <th>Photocurrent (10^-7 A)</th>\n",
       "      <th>1/Sqrt(I)</th>\n",
       "    </tr>\n",
       "  </thead>\n",
       "  <tbody>\n",
       "    <tr>\n",
       "      <th>0</th>\n",
       "      <td>174</td>\n",
       "      <td>2.7500</td>\n",
       "      <td>0.603023</td>\n",
       "    </tr>\n",
       "    <tr>\n",
       "      <th>1</th>\n",
       "      <td>185</td>\n",
       "      <td>2.1300</td>\n",
       "      <td>0.685189</td>\n",
       "    </tr>\n",
       "    <tr>\n",
       "      <th>2</th>\n",
       "      <td>195</td>\n",
       "      <td>1.8300</td>\n",
       "      <td>0.739221</td>\n",
       "    </tr>\n",
       "    <tr>\n",
       "      <th>3</th>\n",
       "      <td>210</td>\n",
       "      <td>1.3410</td>\n",
       "      <td>0.863546</td>\n",
       "    </tr>\n",
       "    <tr>\n",
       "      <th>4</th>\n",
       "      <td>235</td>\n",
       "      <td>0.9130</td>\n",
       "      <td>1.046561</td>\n",
       "    </tr>\n",
       "    <tr>\n",
       "      <th>5</th>\n",
       "      <td>290</td>\n",
       "      <td>0.4530</td>\n",
       "      <td>1.485768</td>\n",
       "    </tr>\n",
       "    <tr>\n",
       "      <th>6</th>\n",
       "      <td>370</td>\n",
       "      <td>0.2190</td>\n",
       "      <td>2.136869</td>\n",
       "    </tr>\n",
       "    <tr>\n",
       "      <th>7</th>\n",
       "      <td>500</td>\n",
       "      <td>0.0992</td>\n",
       "      <td>3.175003</td>\n",
       "    </tr>\n",
       "    <tr>\n",
       "      <th>8</th>\n",
       "      <td>620</td>\n",
       "      <td>0.0585</td>\n",
       "      <td>4.134491</td>\n",
       "    </tr>\n",
       "    <tr>\n",
       "      <th>9</th>\n",
       "      <td>740</td>\n",
       "      <td>0.0383</td>\n",
       "      <td>5.109761</td>\n",
       "    </tr>\n",
       "  </tbody>\n",
       "</table>\n",
       "</div>"
      ],
      "text/plain": [
       "   Xm(mm)  Photocurrent (10^-7 A)  1/Sqrt(I)\n",
       "0     174                  2.7500   0.603023\n",
       "1     185                  2.1300   0.685189\n",
       "2     195                  1.8300   0.739221\n",
       "3     210                  1.3410   0.863546\n",
       "4     235                  0.9130   1.046561\n",
       "5     290                  0.4530   1.485768\n",
       "6     370                  0.2190   2.136869\n",
       "7     500                  0.0992   3.175003\n",
       "8     620                  0.0585   4.134491\n",
       "9     740                  0.0383   5.109761"
      ]
     },
     "execution_count": 225,
     "metadata": {},
     "output_type": "execute_result"
    }
   ],
   "source": [
    "lightIn=pd.read_excel('PhotoCurrent-Distance Data 2020-03-19.xlsx',skiprows=[0,1,2,3,4])\n",
    "lightIn.columns=['Xm(mm)','Photocurrent (10^-7 A)']\n",
    "# Create a column with Sqrt(I)\n",
    "lightIn['1/Sqrt(I)']=(1/np.sqrt(lightIn['Photocurrent (10^-7 A)']))\n",
    "\n",
    "lightIn.head(10)"
   ]
  },
  {
   "cell_type": "code",
   "execution_count": 226,
   "metadata": {},
   "outputs": [
    {
     "data": {
      "text/plain": [
       "<matplotlib.text.Text at 0x20177fda5f8>"
      ]
     },
     "execution_count": 226,
     "metadata": {},
     "output_type": "execute_result"
    },
    {
     "data": {
      "image/png": "[encoded data removed]",
      "text/plain": [
       "<matplotlib.figure.Figure at 0x201799fe4a8>"
      ]
     },
     "metadata": {},
     "output_type": "display_data"
    }
   ],
   "source": [
    "#Make a plot of the data \n",
    "fig1=plt.figure(figsize=(12,6))\n",
    "ax=fig1.add_axes((0,0,1,1))\n",
    "ax.plot(lightIn['Xm(mm)'],lightIn['1/Sqrt(I)'],marker='.',ms=20)\n",
    "ax.set_ylabel(\"1/Sqrt(I)\")\n",
    "ax.set_xlabel(\"Photocell Location Xm(mm)\")\n",
    "\n",
    "\n"
   ]
  },
  {
   "cell_type": "code",
   "execution_count": 286,
   "metadata": {},
   "outputs": [
    {
     "name": "stdout",
     "output_type": "stream",
     "text": [
      "The slope is:  2.08719343349  with error: 0.116569427659\n",
      "The Intercept is:  0.084950823801  with error: 0.0956208845725\n"
     ]
    }
   ],
   "source": [
    "#Now we can do a linear regression to find the values we want to find\n",
    "# I will create a function that I can call again throughout the experiment\n",
    "\n",
    "def linearRegression(x,y):\n",
    "    '''this function will take as an input two 1D numpy arrays and will output the \n",
    "    linear regression model with errors.'''\n",
    "    #First we will calculate all of the values we need to calculate X,Z,N,Y,B\n",
    "    N=x.size\n",
    "    \n",
    "    Z=(x**2).sum()\n",
    "    X=x.sum()\n",
    "    Y=y.sum()\n",
    "    B=(x*y).sum()\n",
    "    delta=(N*Z)-(X**2)\n",
    "    \n",
    "    #Now calculate m and b\n",
    "    m=(N*B-X*Y)/delta\n",
    "    b=(Z*Y-X*B)/delta\n",
    "    \n",
    "    #now calculate the errors\n",
    "    predicts=m*x+b\n",
    "    \n",
    "    errorSquared=(y-predicts)**2\n",
    "    errorSquaredSum=errorSquared.sum()\n",
    "    sigmaSquared=errorSquaredSum/N\n",
    "    \n",
    "    m_error=np.sqrt((N*sigmaSquared)/delta)\n",
    "    b_error=np.sqrt((Z*sigmaSquared)/delta)\n",
    "    return m,b,m_error,b_error\n",
    "    \n",
    "    \n",
    "#Test this on the PH141 data set\n",
    "\n",
    "degrees=np.array([20,30,40,45,50,60,70,80])\n",
    "sin2theta=np.sin(2*(np.pi/180)*degrees)\n",
    "y=np.array([1.27,1.85,2.12,2.16,2.2,1.95,1.5,0.84])\n",
    "\n",
    "\n",
    "m,b,m_error,b_error=linearRegression(sin2theta,y)\n",
    "\n",
    "print(\"The slope is: \",str(m),\" with error:\",str(m_error))\n",
    "print(\"The Intercept is: \",str(b),\" with error:\",str(b_error))\n"
   ]
  },
  {
   "cell_type": "markdown",
   "metadata": {},
   "source": [
    "I simply tested the function on the PH141 data supplied in the Linear Regression lecture and it seems like everything is working correctly. I will not proceed with the linear regression."
   ]
  },
  {
   "cell_type": "code",
   "execution_count": 287,
   "metadata": {},
   "outputs": [
    {
     "name": "stdout",
     "output_type": "stream",
     "text": [
      "The slope is:  0.00798325514547  with error: 2.32168808073e-05\n",
      "The Intercept is:  -0.811364226477  with error: 0.00930081980436\n"
     ]
    },
    {
     "data": {
      "text/plain": [
       "<matplotlib.legend.Legend at 0x2017c63f518>"
      ]
     },
     "execution_count": 287,
     "metadata": {},
     "output_type": "execute_result"
    },
    {
     "data": {
      "image/png": "[encoded data removed]",
      "text/plain": [
       "<matplotlib.figure.Figure at 0x2017bf83400>"
      ]
     },
     "metadata": {},
     "output_type": "display_data"
    }
   ],
   "source": [
    "m,b,m_error,b_error=linearRegression(lightIn['Xm(mm)'].values,lightIn['1/Sqrt(I)'].values)\n",
    "print(\"The slope is: \",str(m),\" with error:\",str(m_error))\n",
    "print(\"The Intercept is: \",str(b),\" with error:\",str(b_error))\n",
    "\n",
    "#make a plot with the line\n",
    "fig2=plt.figure(figsize=(12,6))\n",
    "ax=fig2.add_axes((0,0,1,1))\n",
    "ax.scatter(lightIn['Xm(mm)'],lightIn['1/Sqrt(I)'],label=\"Measured Data Points\")\n",
    "ax.plot(lightIn['Xm(mm)'],lightIn['Xm(mm)'].values*m+b,\n",
    "        label=str(\"y= \"+str(round(m,3))+\"x\"+str(round(b,3))),linestyle='--')\n",
    "ax.set_ylabel(\"1/Sqrt(I)\")\n",
    "ax.set_xlabel(\"Photocell Location Xm(mm)\")\n",
    "ax.legend(loc=2)\n"
   ]
  },
  {
   "cell_type": "markdown",
   "metadata": {},
   "source": [
    "With this information we can find $x_{\\text{offset}}$"
   ]
  },
  {
   "cell_type": "code",
   "execution_count": 229,
   "metadata": {},
   "outputs": [
    {
     "name": "stdout",
     "output_type": "stream",
     "text": [
      "x_offset= 102.0+-1.0 mm\n"
     ]
    }
   ],
   "source": [
    "x_offset=-1*b/m\n",
    "\n",
    "x_offset_error=x_offset*np.sqrt((m_error/m)**2+(b_error/b)**2)\n",
    "\n",
    "print(\"x_offset= \"+str(round(x_offset))+\"+-\"+str(round(x_offset_error))+\" mm\")"
   ]
  },
  {
   "cell_type": "markdown",
   "metadata": {},
   "source": [
    "With this value we can adjust our distance data and plot the graph again and then do another linear regression"
   ]
  },
  {
   "cell_type": "code",
   "execution_count": 231,
   "metadata": {},
   "outputs": [
    {
     "data": {
      "text/html": [
       "<div>\n",
       "<style>\n",
       "    .dataframe thead tr:only-child th {\n",
       "        text-align: right;\n",
       "    }\n",
       "\n",
       "    .dataframe thead th {\n",
       "        text-align: left;\n",
       "    }\n",
       "\n",
       "    .dataframe tbody tr th {\n",
       "        vertical-align: top;\n",
       "    }\n",
       "</style>\n",
       "<table border=\"1\" class=\"dataframe\">\n",
       "  <thead>\n",
       "    <tr style=\"text-align: right;\">\n",
       "      <th></th>\n",
       "      <th>Xm(mm)</th>\n",
       "      <th>Photocurrent (10^-7 A)</th>\n",
       "      <th>1/Sqrt(I)</th>\n",
       "      <th>r (mm)</th>\n",
       "      <th>1/r^2</th>\n",
       "    </tr>\n",
       "  </thead>\n",
       "  <tbody>\n",
       "    <tr>\n",
       "      <th>0</th>\n",
       "      <td>174</td>\n",
       "      <td>2.750</td>\n",
       "      <td>0.603023</td>\n",
       "      <td>72.366742</td>\n",
       "      <td>0.000191</td>\n",
       "    </tr>\n",
       "    <tr>\n",
       "      <th>1</th>\n",
       "      <td>185</td>\n",
       "      <td>2.130</td>\n",
       "      <td>0.685189</td>\n",
       "      <td>83.366742</td>\n",
       "      <td>0.000144</td>\n",
       "    </tr>\n",
       "    <tr>\n",
       "      <th>2</th>\n",
       "      <td>195</td>\n",
       "      <td>1.830</td>\n",
       "      <td>0.739221</td>\n",
       "      <td>93.366742</td>\n",
       "      <td>0.000115</td>\n",
       "    </tr>\n",
       "    <tr>\n",
       "      <th>3</th>\n",
       "      <td>210</td>\n",
       "      <td>1.341</td>\n",
       "      <td>0.863546</td>\n",
       "      <td>108.366742</td>\n",
       "      <td>0.000085</td>\n",
       "    </tr>\n",
       "    <tr>\n",
       "      <th>4</th>\n",
       "      <td>235</td>\n",
       "      <td>0.913</td>\n",
       "      <td>1.046561</td>\n",
       "      <td>133.366742</td>\n",
       "      <td>0.000056</td>\n",
       "    </tr>\n",
       "  </tbody>\n",
       "</table>\n",
       "</div>"
      ],
      "text/plain": [
       "   Xm(mm)  Photocurrent (10^-7 A)  1/Sqrt(I)      r (mm)     1/r^2\n",
       "0     174                   2.750   0.603023   72.366742  0.000191\n",
       "1     185                   2.130   0.685189   83.366742  0.000144\n",
       "2     195                   1.830   0.739221   93.366742  0.000115\n",
       "3     210                   1.341   0.863546  108.366742  0.000085\n",
       "4     235                   0.913   1.046561  133.366742  0.000056"
      ]
     },
     "execution_count": 231,
     "metadata": {},
     "output_type": "execute_result"
    }
   ],
   "source": [
    "#add a new column labeled r\n",
    "\n",
    "lightIn['r (mm)']=lightIn['Xm(mm)']-x_offset\n",
    "lightIn['1/r^2']=1/(lightIn['r (mm)']**2)\n",
    "lightIn.head()"
   ]
  },
  {
   "cell_type": "code",
   "execution_count": 236,
   "metadata": {},
   "outputs": [
    {
     "data": {
      "text/plain": [
       "<matplotlib.text.Text at 0x201768038d0>"
      ]
     },
     "execution_count": 236,
     "metadata": {},
     "output_type": "execute_result"
    },
    {
     "data": {
      "image/png": "[encoded data removed]",
      "text/plain": [
       "<matplotlib.figure.Figure at 0x201792cb3c8>"
      ]
     },
     "metadata": {},
     "output_type": "display_data"
    }
   ],
   "source": [
    "#Now we can plot i vs 1/r^2 \n",
    "plt.figure(figsize=(12,6))\n",
    "plt.scatter(lightIn['1/r^2'],lightIn['Photocurrent (10^-7 A)'])\n",
    "plt.ylabel('Photocurrent (10^-7 A)')\n",
    "plt.xlabel(\"1/r^2 (mm^-2)\")\n",
    "\n",
    "\n"
   ]
  },
  {
   "cell_type": "markdown",
   "metadata": {},
   "source": [
    "Here is a preliminary graph of the data. Next, I will do a linear regression on this data to see if there is a minimum intensity needed for the photoelectric effect to happen"
   ]
  },
  {
   "cell_type": "code",
   "execution_count": 278,
   "metadata": {},
   "outputs": [
    {
     "name": "stdout",
     "output_type": "stream",
     "text": [
      "x_intercept= -0.0 mm with error -0.0 mm\n",
      "The slope is:  14684.878799  with error: 271.345474844\n",
      "The y Intercept is:  0.0353339584163  with error: 0.024538871\n"
     ]
    }
   ],
   "source": [
    "m,b,m_error,b_error=linearRegression(lightIn['1/r^2'].values,lightIn['Photocurrent (10^-7 A)'].values)\n",
    "\n",
    "\n",
    "x_int=-1*b/m\n",
    "\n",
    "x_int_error=x_int*np.sqrt((m_error/m)**2+(b_error/b)**2)\n",
    "\n",
    "print(\"x_intercept= \"+str(round(x_int,1))+\" mm with error \"+str(round(x_int_error,2))+\" mm\")\n",
    "\n",
    "\n",
    "print(\"The slope is: \",str(m),\" with error:\",str(m_error))\n",
    "print(\"The y Intercept is: \",str(b),\" with error:\",str(b_error))"
   ]
  },
  {
   "cell_type": "markdown",
   "metadata": {},
   "source": [
    "From the result above, it is clear that the the intercept represented by the data is indeed insignificant. This makes sense because an intensity of zero would mean no light would shine at all and thus there would be no interaction between a photon of light and an electron. Based on the slope of the line and the error associated with it, it is clear that there is a linear relationship between the intensity of light and the photocurrent. However, there is no minimum intensity needed to reach a current, this can be seen by the x-intercept shown above.This shows that photons interact with only one electron and as long as they have enough energy to excite the electron they interact with it will be excited. Based on the previous experiment and the data here it is clear that the direct relationship between the photocurrent and intensity is solely because of the increased number of interactions between electrons and photons. Without the concept of photons, we would be constrained to believe that light acts as waves, which would not be consistent with the findings since the data would have to show that a minimum intensity would need to be reached in order for the photoelectric effect to take place, therefore we would not be able to explain the outcome of this experiment.\n",
    "\n",
    "\n",
    "A plot with the linear regression plotted on top can be seen below:"
   ]
  },
  {
   "cell_type": "code",
   "execution_count": 285,
   "metadata": {},
   "outputs": [
    {
     "data": {
      "text/plain": [
       "<matplotlib.legend.Legend at 0x2017c39ffd0>"
      ]
     },
     "execution_count": 285,
     "metadata": {},
     "output_type": "execute_result"
    },
    {
     "data": {
      "image/png": "[encoded data removed]",
      "text/plain": [
       "<matplotlib.figure.Figure at 0x2017bee9eb8>"
      ]
     },
     "metadata": {},
     "output_type": "display_data"
    }
   ],
   "source": [
    "plt.figure(figsize=(15,6))\n",
    "\n",
    "plt.scatter(lightIn['1/r^2'],lightIn['Photocurrent (10^-7 A)'],label='Measured Data Points')\n",
    "\n",
    "plt.plot(lightIn['1/r^2'],m*lightIn['1/r^2'].values+b,\n",
    "         label=str(\"y= \"+str(round(m,3))+\"x\"+str(round(b,3))),ls='--')\n",
    "\n",
    "plt.ylabel('Photocurrent (10^-7 A)')\n",
    "\n",
    "plt.xlabel(\"1/r^2 (mm^-2)\")\n",
    "plt.legend()\n"
   ]
  },
  {
   "cell_type": "markdown",
   "metadata": {},
   "source": [
    "# Stopping Potential versus Frequency"
   ]
  },
  {
   "cell_type": "markdown",
   "metadata": {},
   "source": [
    " Here we will be looking at the relationship between the stopping potential and the frequency of light. With this we can determine the work function and a value for $\\frac{h}{e}$. For each color, the photocell was placed in the position that produced the maximum stopping potential. Each subsequent data point was taken after blocking the light for 30s-60s, allowing the voltage to equilibrate."
   ]
  },
  {
   "cell_type": "code",
   "execution_count": 295,
   "metadata": {},
   "outputs": [
    {
     "data": {
      "text/html": [
       "<div>\n",
       "<style>\n",
       "    .dataframe thead tr:only-child th {\n",
       "        text-align: right;\n",
       "    }\n",
       "\n",
       "    .dataframe thead th {\n",
       "        text-align: left;\n",
       "    }\n",
       "\n",
       "    .dataframe tbody tr th {\n",
       "        vertical-align: top;\n",
       "    }\n",
       "</style>\n",
       "<table border=\"1\" class=\"dataframe\">\n",
       "  <thead>\n",
       "    <tr style=\"text-align: right;\">\n",
       "      <th></th>\n",
       "      <th>Wavelength (nm)</th>\n",
       "      <th>Stopping Potential (V)</th>\n",
       "      <th>frequency</th>\n",
       "    </tr>\n",
       "  </thead>\n",
       "  <tbody>\n",
       "    <tr>\n",
       "      <th>0</th>\n",
       "      <td>633.0</td>\n",
       "      <td>0.417</td>\n",
       "      <td>4.736058e+14</td>\n",
       "    </tr>\n",
       "    <tr>\n",
       "      <th>1</th>\n",
       "      <td>633.0</td>\n",
       "      <td>0.421</td>\n",
       "      <td>4.736058e+14</td>\n",
       "    </tr>\n",
       "    <tr>\n",
       "      <th>2</th>\n",
       "      <td>633.0</td>\n",
       "      <td>0.422</td>\n",
       "      <td>4.736058e+14</td>\n",
       "    </tr>\n",
       "    <tr>\n",
       "      <th>3</th>\n",
       "      <td>579.1</td>\n",
       "      <td>0.575</td>\n",
       "      <td>5.176869e+14</td>\n",
       "    </tr>\n",
       "    <tr>\n",
       "      <th>4</th>\n",
       "      <td>579.1</td>\n",
       "      <td>0.573</td>\n",
       "      <td>5.176869e+14</td>\n",
       "    </tr>\n",
       "    <tr>\n",
       "      <th>5</th>\n",
       "      <td>579.1</td>\n",
       "      <td>0.575</td>\n",
       "      <td>5.176869e+14</td>\n",
       "    </tr>\n",
       "    <tr>\n",
       "      <th>6</th>\n",
       "      <td>546.0</td>\n",
       "      <td>0.772</td>\n",
       "      <td>5.490704e+14</td>\n",
       "    </tr>\n",
       "    <tr>\n",
       "      <th>7</th>\n",
       "      <td>546.0</td>\n",
       "      <td>0.773</td>\n",
       "      <td>5.490704e+14</td>\n",
       "    </tr>\n",
       "    <tr>\n",
       "      <th>8</th>\n",
       "      <td>546.0</td>\n",
       "      <td>0.776</td>\n",
       "      <td>5.490704e+14</td>\n",
       "    </tr>\n",
       "    <tr>\n",
       "      <th>9</th>\n",
       "      <td>436.0</td>\n",
       "      <td>1.224</td>\n",
       "      <td>6.875974e+14</td>\n",
       "    </tr>\n",
       "    <tr>\n",
       "      <th>10</th>\n",
       "      <td>436.0</td>\n",
       "      <td>1.227</td>\n",
       "      <td>6.875974e+14</td>\n",
       "    </tr>\n",
       "    <tr>\n",
       "      <th>11</th>\n",
       "      <td>436.0</td>\n",
       "      <td>1.228</td>\n",
       "      <td>6.875974e+14</td>\n",
       "    </tr>\n",
       "    <tr>\n",
       "      <th>12</th>\n",
       "      <td>405.0</td>\n",
       "      <td>1.445</td>\n",
       "      <td>7.402283e+14</td>\n",
       "    </tr>\n",
       "    <tr>\n",
       "      <th>13</th>\n",
       "      <td>405.0</td>\n",
       "      <td>1.444</td>\n",
       "      <td>7.402283e+14</td>\n",
       "    </tr>\n",
       "    <tr>\n",
       "      <th>14</th>\n",
       "      <td>405.0</td>\n",
       "      <td>1.447</td>\n",
       "      <td>7.402283e+14</td>\n",
       "    </tr>\n",
       "    <tr>\n",
       "      <th>15</th>\n",
       "      <td>365.0</td>\n",
       "      <td>1.797</td>\n",
       "      <td>8.213492e+14</td>\n",
       "    </tr>\n",
       "    <tr>\n",
       "      <th>16</th>\n",
       "      <td>365.0</td>\n",
       "      <td>1.806</td>\n",
       "      <td>8.213492e+14</td>\n",
       "    </tr>\n",
       "    <tr>\n",
       "      <th>17</th>\n",
       "      <td>365.0</td>\n",
       "      <td>1.805</td>\n",
       "      <td>8.213492e+14</td>\n",
       "    </tr>\n",
       "  </tbody>\n",
       "</table>\n",
       "</div>"
      ],
      "text/plain": [
       "    Wavelength (nm)  Stopping Potential (V)     frequency\n",
       "0             633.0                   0.417  4.736058e+14\n",
       "1             633.0                   0.421  4.736058e+14\n",
       "2             633.0                   0.422  4.736058e+14\n",
       "3             579.1                   0.575  5.176869e+14\n",
       "4             579.1                   0.573  5.176869e+14\n",
       "5             579.1                   0.575  5.176869e+14\n",
       "6             546.0                   0.772  5.490704e+14\n",
       "7             546.0                   0.773  5.490704e+14\n",
       "8             546.0                   0.776  5.490704e+14\n",
       "9             436.0                   1.224  6.875974e+14\n",
       "10            436.0                   1.227  6.875974e+14\n",
       "11            436.0                   1.228  6.875974e+14\n",
       "12            405.0                   1.445  7.402283e+14\n",
       "13            405.0                   1.444  7.402283e+14\n",
       "14            405.0                   1.447  7.402283e+14\n",
       "15            365.0                   1.797  8.213492e+14\n",
       "16            365.0                   1.806  8.213492e+14\n",
       "17            365.0                   1.805  8.213492e+14"
      ]
     },
     "execution_count": 295,
     "metadata": {},
     "output_type": "execute_result"
    }
   ],
   "source": [
    "#import the data\n",
    "waveStop=pd.read_excel(\"StoppingVoltage-Wavelength Data 2020-03-19.xlsx\",\n",
    "                       skiprows=[0,1,2,3,4])\n",
    "\n",
    "waveStop.columns=['Wavelength (nm)','Stopping Potential (V)','h']\n",
    "waveStop.drop(labels=['h'],axis=1,inplace=True)\n",
    "\n",
    "\n",
    "#make a frequency column\n",
    "waveStop['frequency']=(299792458*10**9)/waveStop['Wavelength (nm)']\n",
    "\n",
    "\n",
    "waveStop"
   ]
  },
  {
   "cell_type": "code",
   "execution_count": 296,
   "metadata": {},
   "outputs": [
    {
     "data": {
      "text/plain": [
       "<matplotlib.collections.PathCollection at 0x2017c785a58>"
      ]
     },
     "execution_count": 296,
     "metadata": {},
     "output_type": "execute_result"
    },
    {
     "data": {
      "image/png": "[encoded data removed]",
      "text/plain": [
       "<matplotlib.figure.Figure at 0x2017c6f6240>"
      ]
     },
     "metadata": {},
     "output_type": "display_data"
    }
   ],
   "source": [
    "#plot this data\n",
    "plt.figure(figsize=(12,6))\n",
    "plt.scatter(waveStop['frequency'],waveStop['Stopping Potential (V)'])"
   ]
  },
  {
   "cell_type": "markdown",
   "metadata": {},
   "source": [
    "Now do a linear regression on this data.\n"
   ]
  },
  {
   "cell_type": "code",
   "execution_count": 299,
   "metadata": {},
   "outputs": [
    {
     "name": "stdout",
     "output_type": "stream",
     "text": [
      "The slope is:  3.889249682933812e-15  with error: 5.62480147874e-17\n",
      "The y Intercept is:  -1.4160209845278644  with error: 0.03622886738\n"
     ]
    }
   ],
   "source": [
    "m,b,m_error,b_error=linearRegression(waveStop['frequency'],waveStop['Stopping Potential (V)'])\n",
    "\n",
    "print(\"The slope is: \",str(m),\" with error:\",str(m_error))\n",
    "print(\"The y Intercept is: \",str(b),\" with error:\",str(b_error))"
   ]
  },
  {
   "cell_type": "markdown",
   "metadata": {},
   "source": [
    "\n",
    "From this we can find the various values mentioned aboove. The frequency was calculated using the following equation.\n",
    "\n",
    "\\begin{equation}\\label{eq:1}\n",
    "\\nu= \\frac{c}{\\lambda}\n",
    "\\end{equation}\n",
    "\n",
    "With this we can use the stopping potential formula given in the lab handout below:\n",
    "\\begin{equation}\\label{eq:2}\n",
    "V_{\\text{Stop}}=\\frac{h}{e}\\nu-\\frac{\\omega_0}{e}\n",
    "\\end{equation}\n",
    "\n",
    "With this it is clear that $\\frac{h}{e}=3.889 \\pm 1.45\\% \\frac{Js}{C}$ \n",
    "\n",
    "If we multiply this value by $e=1.60217662 \\times 10^{-19}$, we should get plank's constant. After this calculation we get that $h=6.231 \\times 10^{-34}\\pm 1.45\\%$ Js which is very close to the actual value shown below\n",
    "\n",
    "![plankconstant](plankconstant.png)\n",
    "\n",
    "This was taken from https://physics.nist.gov/cgi-bin/cuu/Value?h\n",
    "\n",
    "We can now also find the work function by using the intercept,$\\frac{\\omega_0}{e}=1.4160 \\pm 0.04$ V.\n"
   ]
  },
  {
   "cell_type": "markdown",
   "metadata": {},
   "source": [
    "# Conclusion"
   ]
  },
  {
   "cell_type": "markdown",
   "metadata": {},
   "source": [
    "From the results above, it is clear that the light acts like a wave in some circumstances and a particle in other circumstances. This discovery by Albert Einstein and Robert Millikan certainly deserved the nobel prize as it paved the way to quantum mechanics and fundamentally changed our understanding of how such a fundamental thing like light worked."
   ]
  }
 ],
 "metadata": {
  "kernelspec": {
   "display_name": "Python 3",
   "language": "python",
   "name": "python3"
  },
  "language_info": {
   "codemirror_mode": {
    "name": "ipython",
    "version": 3
   },
   "file_extension": ".py",
   "mimetype": "text/x-python",
   "name": "python",
   "nbconvert_exporter": "python",
   "pygments_lexer": "ipython3",
   "version": "3.6.1"
  },
  "latex_envs": {
   "LaTeX_envs_menu_present": true,
   "autoclose": true,
   "autocomplete": true,
   "bibliofile": "biblio.bib",
   "cite_by": "apalike",
   "current_citInitial": 1,
   "eqLabelWithNumbers": true,
   "eqNumInitial": 1,
   "hotkeys": {
    "equation": "Ctrl-E",
    "itemize": "Ctrl-I"
   },
   "labels_anchors": false,
   "latex_user_defs": false,
   "report_style_numbering": false,
   "user_envs_cfg": false
  }
 },
 "nbformat": 4,
 "nbformat_minor": 2
}
